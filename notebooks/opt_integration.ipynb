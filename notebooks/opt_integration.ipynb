{
  "nbformat": 4,
  "nbformat_minor": 0,
  "metadata": {
    "colab": {
      "name": "Chai: OPT integration",
      "provenance": [],
      "collapsed_sections": []
    },
    "kernelspec": {
      "name": "python3",
      "display_name": "Python 3"
    },
    "language_info": {
      "name": "python"
    }
  },
  "cells": [
    {
      "cell_type": "code",
      "source": [
        "#@title Install updated Transformers library\n",
        "%%capture\n",
        "!pip install git+https://github.com/AlekseyKorshuk/transformers.git@opt\n"
      ],
      "metadata": {
        "id": "TSK7WCU8VXB0",
        "cellView": "form"
      },
      "execution_count": null,
      "outputs": []
    },
    {
      "cell_type": "markdown",
      "source": [
        "# Prepare Meta's model"
      ],
      "metadata": {
        "id": "BFZ05osa_Mdp"
      }
    },
    {
      "cell_type": "code",
      "source": [
        "#@title Download weights\n",
        "!mkdir opt-model\n",
        "!wget https://dl.fbaipublicfiles.com/opt/v1_20220502/350m/reshard.pt"
      ],
      "metadata": {
        "colab": {
          "base_uri": "https://localhost:8080/"
        },
        "cellView": "form",
        "id": "te_--f5X9Ibi",
        "outputId": "b0a35a29-b77a-406d-e405-90c1f07b746a"
      },
      "execution_count": null,
      "outputs": [
        {
          "output_type": "stream",
          "name": "stdout",
          "text": [
            "--2022-05-05 20:43:11--  https://dl.fbaipublicfiles.com/opt/v1_20220502/350m/reshard.pt\n",
            "Resolving dl.fbaipublicfiles.com (dl.fbaipublicfiles.com)... 104.22.75.142, 104.22.74.142, 172.67.9.4, ...\n",
            "Connecting to dl.fbaipublicfiles.com (dl.fbaipublicfiles.com)|104.22.75.142|:443... connected.\n",
            "HTTP request sent, awaiting response... 200 OK\n",
            "Length: 714040635 (681M) [binary/octet-stream]\n",
            "Saving to: ‘reshard.pt’\n",
            "\n",
            "reshard.pt          100%[===================>] 680.96M  20.4MB/s    in 34s     \n",
            "\n",
            "2022-05-05 20:43:46 (20.1 MB/s) - ‘reshard.pt’ saved [714040635/714040635]\n",
            "\n"
          ]
        }
      ]
    },
    {
      "cell_type": "code",
      "source": [
        "#@title Convert Pytorch state dict\n",
        "import torch\n",
        "initials = [\n",
        "            torch.load(\"/content/reshard.pt\"),\n",
        "            # torch.load(\"/content/reshard-model_part-0.pt\"),\n",
        "            # torch.load(\"/content/reshard-model_part-1.pt\")\n",
        "           ]\n",
        "state_dict = {}\n",
        "for initial in initials:\n",
        "  for key in initial.keys():\n",
        "    if isinstance(initial[key], dict):\n",
        "      for key2 in initial[key].keys():\n",
        "        state_dict[f\"{key}.{key2}\"] = initial[key][key2]\n",
        "    else:\n",
        "      state_dict[f\"{key}\"] = initial[key]\n",
        "\n",
        "torch.save(state_dict, \"opt-model/pytorch_model.bin\")"
      ],
      "metadata": {
        "cellView": "form",
        "id": "lwHpal7P88Mf"
      },
      "execution_count": null,
      "outputs": []
    },
    {
      "cell_type": "code",
      "source": [
        "#@title Load config file\n",
        "config_dict = {\n",
        "  \"_name_or_path\": \"test\",\n",
        "  \"activation_dropout\": 0.0,\n",
        "  \"activation_function\": \"gelu_new\",\n",
        "  \"architectures\": [\n",
        "    \"OPTForCausalLM\"\n",
        "  ],\n",
        "  \"attention_dropout\": 0.0,\n",
        "  \"attn_pdrop\": 0.1,\n",
        "  \"bos_token_id\": 50256,\n",
        "  \"classifier_dropout\": 0.0,\n",
        "  \"d_model\": 1024,\n",
        "  \"decoder_attention_heads\": 16,\n",
        "  \"decoder_ffn_dim\": 4096,\n",
        "  \"decoder_layerdrop\": 0.0,\n",
        "  \"decoder_layers\": 24,\n",
        "  \"decoder_start_token_id\": 2,\n",
        "  \"do_sample\": True,\n",
        "  \"dropout\": 0.1,\n",
        "  \"embd_pdrop\": 0.1,\n",
        "  \"embed_dim\": 512,\n",
        "  \"eos_token_id\": 50256,\n",
        "  \"forced_eos_token_id\": 2,\n",
        "  \"id2label\": {\n",
        "    \"0\": \"LABEL_0\",\n",
        "    \"1\": \"LABEL_1\",\n",
        "    \"2\": \"LABEL_2\"\n",
        "  },\n",
        "  \"init_std\": 0.02,\n",
        "  \"initializer_range\": 0.02,\n",
        "  \"is_decoder\": True,\n",
        "  \"is_encoder_decoder\": False,\n",
        "  \"label2id\": {\n",
        "    \"LABEL_0\": 0,\n",
        "    \"LABEL_1\": 1,\n",
        "    \"LABEL_2\": 2\n",
        "  },\n",
        "  \"layer_norm_epsilon\": 1e-05,\n",
        "  \"max_length\": 50,\n",
        "  \"max_position_embeddings\": 2048,\n",
        "  \"model_type\": \"opt\",\n",
        "  \"n_ctx\": 1024,\n",
        "  \"n_embd\": 768,\n",
        "  \"n_head\": 12,\n",
        "  \"n_layer\": 12,\n",
        "  \"n_positions\": 1024,\n",
        "  \"pad_token_id\": 1,\n",
        "  \"resid_pdrop\": 0.1,\n",
        "  \"scale_embedding\": False,\n",
        "  \"share_input_output_embed\": False,\n",
        "  \"summary_activation\": None,\n",
        "  \"summary_first_dropout\": 0.1,\n",
        "  \"summary_proj_to_labels\": True,\n",
        "  \"summary_type\": \"cls_index\",\n",
        "  \"summary_use_proj\": True,\n",
        "  \"task_specific_params\": {\n",
        "    \"text-generation\": {\n",
        "      \"do_sample\": True,\n",
        "      \"max_length\": 50\n",
        "    }\n",
        "  },\n",
        "  \"torch_dtype\": \"float32\",\n",
        "  \"transformers_version\": \"4.19.0.dev0\",\n",
        "  \"use_cache\": False,\n",
        "  \"vocab_size\": 50272\n",
        "}\n",
        "\n",
        "import json\n",
        "with open('opt-model/config.json', 'w') as fp:\n",
        "    json.dump(config_dict, fp)"
      ],
      "metadata": {
        "cellView": "form",
        "id": "DcVU2vCh9tqk"
      },
      "execution_count": null,
      "outputs": []
    },
    {
      "cell_type": "markdown",
      "source": [
        "# Inference"
      ],
      "metadata": {
        "id": "XLgJAgJU_17x"
      }
    },
    {
      "cell_type": "markdown",
      "source": [
        "## With early prepared model"
      ],
      "metadata": {
        "id": "vLg0rPG1_6Pm"
      }
    },
    {
      "cell_type": "code",
      "source": [
        "from transformers import pipeline, OPTForCausalLM, GPT2Tokenizer\n",
        "model = OPTForCausalLM.from_pretrained(\"opt-model\").eval()\n",
        "tokenizer = GPT2Tokenizer.from_pretrained(\"AlekseyKorshuk/opt-350m\")\n",
        "pipe = pipeline(\"text-generation\", model=model, tokenizer=tokenizer)\n",
        "\n",
        "results = pipe(\"Today is a beautiful day and I want to\")\n",
        "results"
      ],
      "metadata": {
        "id": "Pfpr0rZUUkXa"
      },
      "execution_count": null,
      "outputs": []
    },
    {
      "cell_type": "markdown",
      "source": [
        "## With pipeline from my ready-to-go hub repo"
      ],
      "metadata": {
        "id": "yGUfKtkRAALY"
      }
    },
    {
      "cell_type": "code",
      "source": [
        "from transformers import pipeline\n",
        "pipe = pipeline(\"text-generation\", \"AlekseyKorshuk/opt-350m\")\n",
        "\n",
        "results = pipe(\"Today is a beautiful day and I want to\")\n",
        "results"
      ],
      "metadata": {
        "id": "0Wt405QJFlIB"
      },
      "execution_count": null,
      "outputs": []
    }
  ]
}